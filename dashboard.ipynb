{
 "cells": [
  {
   "cell_type": "markdown",
   "metadata": {},
   "source": [
    "# Russian Presidential Election, 18th of March 2018\n",
    "\n",
    "To launch notebook, use $Cell - Run\\ All$ button on the menu above (can take up to 1 minute to process data and fit the model):  \n",
    "<img src=\"screenshots/menu.png\" align=\"left\"/>  \n",
    "\n",
    "<br><br><br><br><br><br><br><br><br>\n",
    "Then choose your metrics from dropdown list to plot chart"
   ]
  },
  {
   "cell_type": "markdown",
   "metadata": {},
   "source": [
    "**Data:**\n",
    "- Scraped from [official website](http://www.vybory.izbirkom.ru/region/izbirkom) of Central Electoral Commission\n",
    "- [Link](https://github.com/german3d/RussianElections2018/tree/master/data) to the downloaded dataset\n",
    "<br><br>\n",
    "  \n",
    "**Territorial hierarchy:**\n",
    "- Federal Districts (colored differently)\n",
    "    - Regions\n",
    "        - Territorial Election Commissions (TEC\n",
    "            - Precinct Electoral Commissions (PEC)\n",
    "\n",
    "<br><br>\n",
    "**Features to detect anomalous PECs:**\n",
    "- % of votes per candidate\n",
    "- % voting turnout"
   ]
  },
  {
   "cell_type": "code",
   "execution_count": null,
   "metadata": {
    "ExecuteTime": {
     "end_time": "2019-01-25T17:52:34.112527Z",
     "start_time": "2019-01-25T17:52:24.582456Z"
    }
   },
   "outputs": [],
   "source": [
    "import cufflinks\n",
    "import warnings\n",
    "from IPython.display import HTML\n",
    "from data_processor import get_clean_data\n",
    "from outlier_processor import get_outliers\n",
    "from viz_processor import make_dashboard\n",
    "\n",
    "cufflinks.go_offline()\n",
    "warnings.filterwarnings(\"ignore\")\n",
    "HTML(\"<script>$('div.input').hide();</script>\")"
   ]
  },
  {
   "cell_type": "code",
   "execution_count": null,
   "metadata": {
    "ExecuteTime": {
     "end_time": "2019-01-25T17:52:48.138785Z",
     "start_time": "2019-01-25T17:52:34.114358Z"
    }
   },
   "outputs": [],
   "source": [
    "data = get_clean_data()\n",
    "data_outliers = get_outliers(contamination=.01, n_jobs=-1)"
   ]
  },
  {
   "cell_type": "markdown",
   "metadata": {},
   "source": [
    "### All PECs dashboard"
   ]
  },
  {
   "cell_type": "code",
   "execution_count": null,
   "metadata": {
    "ExecuteTime": {
     "end_time": "2019-01-25T17:52:48.981558Z",
     "start_time": "2019-01-25T17:52:48.140489Z"
    }
   },
   "outputs": [],
   "source": [
    "make_dashboard(data=data, method=\"bubble\")"
   ]
  },
  {
   "cell_type": "markdown",
   "metadata": {
    "ExecuteTime": {
     "end_time": "2019-01-25T17:53:04.631207Z",
     "start_time": "2019-01-25T17:53:04.627614Z"
    }
   },
   "source": [
    "***\n",
    "***"
   ]
  },
  {
   "cell_type": "markdown",
   "metadata": {},
   "source": [
    "### Anomalous PECs dashboard"
   ]
  },
  {
   "cell_type": "code",
   "execution_count": null,
   "metadata": {
    "ExecuteTime": {
     "end_time": "2019-01-25T17:52:49.056179Z",
     "start_time": "2019-01-25T17:52:48.983256Z"
    }
   },
   "outputs": [],
   "source": [
    "make_dashboard(data=data_outliers, method=\"bubble_PEC\")"
   ]
  }
 ],
 "metadata": {
  "hide_input": false,
  "kernelspec": {
   "display_name": "RussianElections2018",
   "language": "python",
   "name": "russianelections2018"
  },
  "language_info": {
   "codemirror_mode": {
    "name": "ipython",
    "version": 3
   },
   "file_extension": ".py",
   "mimetype": "text/x-python",
   "name": "python",
   "nbconvert_exporter": "python",
   "pygments_lexer": "ipython3",
   "version": "3.6.4"
  },
  "toc": {
   "base_numbering": 1,
   "nav_menu": {},
   "number_sections": false,
   "sideBar": true,
   "skip_h1_title": false,
   "title_cell": "Table of Contents",
   "title_sidebar": "Contents",
   "toc_cell": false,
   "toc_position": {},
   "toc_section_display": true,
   "toc_window_display": false
  },
  "widgets": {
   "application/vnd.jupyter.widget-state+json": {
    "state": {},
    "version_major": 1,
    "version_minor": 0
   }
  }
 },
 "nbformat": 4,
 "nbformat_minor": 2
}
